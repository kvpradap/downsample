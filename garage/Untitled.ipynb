{
 "cells": [
  {
   "cell_type": "code",
   "execution_count": 1,
   "metadata": {},
   "outputs": [],
   "source": [
    "import sys"
   ]
  },
  {
   "cell_type": "code",
   "execution_count": 4,
   "metadata": {},
   "outputs": [],
   "source": [
    "sys.path.append('/Users/pradap/Documents/Research/Python-Package/pradap/downsample')"
   ]
  },
  {
   "cell_type": "code",
   "execution_count": 5,
   "metadata": {},
   "outputs": [],
   "source": [
    "import downsample.core.mur_sample"
   ]
  },
  {
   "cell_type": "code",
   "execution_count": 27,
   "metadata": {},
   "outputs": [],
   "source": [
    "import pandas as pd\n",
    "import numpy as np\n",
    "from downsample.core.mur_wrapper_cy import get_str_cols, concat_cols, tokenize_n_rem_stopwords\n",
    "from downsample.core.mur_wrapper_cy import build_inv_index, sample_pairs\n",
    "\n",
    "from dask import delayed\n",
    "\n",
    "def mur_sample(ltable, rtable, sample_size, y_param, stopword_list=[], num_chunks=1):\n",
    "\n",
    "    ltbl_str_cols = get_str_cols(ltable)\n",
    "\n",
    "\n",
    "    rtable = rtable.sample(sample_size, replace=False)\n",
    "    rtbl_str_cols = get_str_cols(rtable)\n",
    "\n",
    "    ltbl_concat_cols = concat_cols(ltable[ltbl_str_cols])\n",
    "    rtbl_concat_cols = concat_cols(rtable[rtbl_str_cols])\n",
    "\n",
    "\n",
    "    ret_tokens = tokenize_n_rem_stopwords(ltbl_concat_cols, rtbl_concat_cols, stopword_list)\n",
    "\n",
    "    ltokens = ret_tokens[0]\n",
    "    rtokens = ret_tokens[1]\n",
    "\n",
    "    inv_index = build_inv_index(ltokens)\n",
    "\n",
    "    list_indices = range(len(rtokens))\n",
    "\n",
    "\n",
    "    rtoken_split = np.array_split(rtokens, num_chunks)\n",
    "    indices_split = np.array_split(list_indices, num_chunks)\n",
    "\n",
    "    l_ids = set()\n",
    "    r_ids = set()\n",
    "    result_list = []\n",
    "    for i in range(num_chunks):\n",
    "        result = (delayed)(sample_pairs)(rtoken_split[i], indices_split[i], inv_index, y_param)\n",
    "        result_list.append(result)\n",
    "\n",
    "   # l_ids = (delayed)(sorted)(l_ids)\n",
    "    #r_ids = (delayed)(sorted)(r_ids)\n",
    "\n",
    "    #ltbl_sampled = (delayed)(ltable.iloc)[l_ids]\n",
    "    #rtbl_sampled = (delayed)(rtable.iloc)[r_ids]\n",
    "\n",
    "    #return (ltbl_sampled, rtbl_sampled)\n",
    "    return result_list"
   ]
  },
  {
   "cell_type": "code",
   "execution_count": 14,
   "metadata": {},
   "outputs": [],
   "source": [
    "import py_stringsimjoin as ssj"
   ]
  },
  {
   "cell_type": "code",
   "execution_count": 8,
   "metadata": {},
   "outputs": [],
   "source": [
    "A, B = ssj.load_person_dataset()"
   ]
  },
  {
   "cell_type": "code",
   "execution_count": 28,
   "metadata": {},
   "outputs": [],
   "source": [
    "result= mur_sample(A, B, 4, 1)"
   ]
  },
  {
   "cell_type": "code",
   "execution_count": 30,
   "metadata": {},
   "outputs": [
    {
     "data": {
      "image/png": "[encoded data removed]",
      "text/plain": [
       "<IPython.core.display.Image object>"
      ]
     },
     "execution_count": 30,
     "metadata": {},
     "output_type": "execute_result"
    }
   ],
   "source": [
    "result[0].visualize()"
   ]
  }
 ],
 "metadata": {
  "kernelspec": {
   "display_name": "Python 3",
   "language": "python",
   "name": "python3"
  },
  "language_info": {
   "codemirror_mode": {
    "name": "ipython",
    "version": 3
   },
   "file_extension": ".py",
   "mimetype": "text/x-python",
   "name": "python",
   "nbconvert_exporter": "python",
   "pygments_lexer": "ipython3",
   "version": "3.6.0"
  }
 },
 "nbformat": 4,
 "nbformat_minor": 2
}
