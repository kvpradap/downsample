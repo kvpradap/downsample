{
 "cells": [
  {
   "cell_type": "code",
   "execution_count": 1,
   "metadata": {
    "collapsed": true
   },
   "outputs": [],
   "source": [
    "import py_stringsimjoin as ssj"
   ]
  },
  {
   "cell_type": "code",
   "execution_count": 2,
   "metadata": {
    "collapsed": true
   },
   "outputs": [],
   "source": [
    "A, B = ssj.load_books_dataset()"
   ]
  },
  {
   "cell_type": "code",
   "execution_count": 3,
   "metadata": {
    "collapsed": true
   },
   "outputs": [],
   "source": [
    "def concat(*args):\n",
    "        strs = [str(arg) for arg in args if not pd.isnull(arg)]\n",
    "        ret_val = ' '.join(strs) if strs else ''\n",
    "        return ret_val.strip()"
   ]
  },
  {
   "cell_type": "code",
   "execution_count": 5,
   "metadata": {
    "collapsed": true
   },
   "outputs": [],
   "source": [
    "import numpy as np"
   ]
  },
  {
   "cell_type": "code",
   "execution_count": 7,
   "metadata": {
    "collapsed": true
   },
   "outputs": [],
   "source": [
    "np_concat = np.vectorize(concat)"
   ]
  },
  {
   "cell_type": "code",
   "execution_count": 12,
   "metadata": {
    "collapsed": true
   },
   "outputs": [],
   "source": [
    "import pandas as pd"
   ]
  },
  {
   "cell_type": "code",
   "execution_count": 15,
   "metadata": {
    "collapsed": false
   },
   "outputs": [],
   "source": [
    "s = np_concat(*A.T.values)"
   ]
  },
  {
   "cell_type": "code",
   "execution_count": 16,
   "metadata": {
    "collapsed": false
   },
   "outputs": [
    {
     "data": {
      "text/plain": [
       "array([ \"BN0001 The Maze Runner Series Complete Collection $24.21  James Dashner 9780385388894 Random House Children's Books 7/8/14 5.60(w) x 8.40(h) x 3.30(d)\",\n",
       "       'BN0002 The 5th Wave (Fifth Wave Series #1) $8.35  Rick Yancey 9780142425831 Penguin Young Readers Group 2/10/15 512.0 5.40(w) x 8.20(h) x 1.50(d)',\n",
       "       \"BN0003 The Death Cure (Maze Runner Series #3) $9.99  James Dashner 9780385738781 Random House Children's Books 1/8/13 352.0 5.50(w) x 8.10(h) x 1.00(d)\",\n",
       "       ...,\n",
       "       'BN3020 Skeleton Key: The Graphic Novel $10.86  Anthony Horowitz 9780399254185 Penguin Young Readers Group 11/12/09 128.0 5.90(w) x 8.90(h) x 0.50(d)',\n",
       "       'BN3021 Who Do You Think You Are?: Stories of Friends and Enemies $7.97  Hazel Rochman 9780316753203 Little, Brown Books for Young Readers 10/1/97 176.0 5.50(w) x 8.25(h) x 0.50(d)',\n",
       "       'BN3022 Freak Show $7.41  James St. James 9780142412312 Penguin Young Readers Group 10/2/08 304.0 5.70(w) x 10.90(h) x 0.78(d)'], \n",
       "      dtype='<U304')"
      ]
     },
     "execution_count": 16,
     "metadata": {},
     "output_type": "execute_result"
    }
   ],
   "source": []
  },
  {
   "cell_type": "code",
   "execution_count": 17,
   "metadata": {
    "collapsed": true
   },
   "outputs": [],
   "source": [
    "import py_stringsimjoin as ssj\n",
    "import numpy as np\n",
    "\n",
    "A, B = ssj.load_books_dataset()\n",
    "\n",
    "def concat_cols(*column_values):\n",
    "    strs = [str(column_value) for column_value in column_values if not pd.isnull(column_value)]\n",
    "    ret_val = ' '.join(strs) if strs else ''\n",
    "    return ret_val.strip().lower()\n",
    "\n",
    "np_concat_cols = np.vectorize(concat_cols)\n",
    "\n",
    "def get_str_cols(dataframe):\n",
    "    if len(dataframe) == 0:\n",
    "        raise AssertionError('Size of input table is 0')\n",
    "\n",
    "    cols = list(dataframe.columns[dataframe.dtypes == object])\n",
    "    return cols\n",
    "\n",
    "str_cols_df_A = get_str_cols(A)\n",
    "str_cols_df_B = get_str_cols(B)\n",
    "\n",
    "\n",
    "A1 = A[str_cols_df_A]\n",
    "B1 = B[str_cols_df_B]\n",
    "\n",
    "concat_cols_df_A = np_concat_cols(*A1.T.values)\n",
    "concat_cols_df_B = np_concat_cols(*B1.T.values)"
   ]
  },
  {
   "cell_type": "code",
   "execution_count": 19,
   "metadata": {
    "collapsed": false
   },
   "outputs": [],
   "source": [
    "x = 0\n",
    "for vals in concat_cols_df_A:\n",
    "    x = x + len(vals)"
   ]
  },
  {
   "cell_type": "code",
   "execution_count": 20,
   "metadata": {
    "collapsed": false
   },
   "outputs": [
    {
     "name": "stdout",
     "output_type": "stream",
     "text": [
      "373634\n"
     ]
    }
   ],
   "source": [
    "print(x)"
   ]
  }
 ],
 "metadata": {
  "kernelspec": {
   "display_name": "Python 3",
   "language": "python",
   "name": "python3"
  },
  "language_info": {
   "codemirror_mode": {
    "name": "ipython",
    "version": 3
   },
   "file_extension": ".py",
   "mimetype": "text/x-python",
   "name": "python",
   "nbconvert_exporter": "python",
   "pygments_lexer": "ipython3",
   "version": "3.6.0"
  }
 },
 "nbformat": 4,
 "nbformat_minor": 2
}
