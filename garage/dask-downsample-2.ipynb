{
 "cells": [
  {
   "cell_type": "code",
   "execution_count": 1,
   "metadata": {
    "collapsed": true,
    "deletable": true,
    "editable": true
   },
   "outputs": [],
   "source": [
    "import sys\n",
    "sys.path.append('/Users/pradap/Documents/Research/Python-Package/pradap/downsample')"
   ]
  },
  {
   "cell_type": "code",
   "execution_count": 2,
   "metadata": {
    "collapsed": true,
    "deletable": true,
    "editable": true
   },
   "outputs": [],
   "source": [
    "import py_stringsimjoin as ssj\n",
    "from downsample.core.down_sample import down_sample"
   ]
  },
  {
   "cell_type": "code",
   "execution_count": 4,
   "metadata": {
    "collapsed": true,
    "deletable": true,
    "editable": true
   },
   "outputs": [],
   "source": [
    "A, B = ssj.load_books_dataset()"
   ]
  },
  {
   "cell_type": "code",
   "execution_count": 5,
   "metadata": {
    "collapsed": false,
    "deletable": true,
    "editable": true
   },
   "outputs": [
    {
     "name": "stdout",
     "output_type": "stream",
     "text": [
      "[########################################] | 100% Completed |  3.3s\n"
     ]
    }
   ],
   "source": [
    "sampled_tbls = down_sample(A, B, 3000, 1, num_chunks=4)"
   ]
  },
  {
   "cell_type": "code",
   "execution_count": 6,
   "metadata": {
    "collapsed": false,
    "deletable": true,
    "editable": true
   },
   "outputs": [],
   "source": [
    "ltbl_sampled = sampled_tbls[0]\n",
    "rtbl_sampled = sampled_tbls[1]"
   ]
  },
  {
   "cell_type": "code",
   "execution_count": 15,
   "metadata": {
    "collapsed": false,
    "deletable": true,
    "editable": true
   },
   "outputs": [
    {
     "data": {
      "text/html": [
       "<div>\n",
       "<table border=\"1\" class=\"dataframe\">\n",
       "  <thead>\n",
       "    <tr style=\"text-align: right;\">\n",
       "      <th></th>\n",
       "      <th>ID</th>\n",
       "      <th>Title</th>\n",
       "      <th>Price</th>\n",
       "      <th>Author</th>\n",
       "      <th>ISBN13</th>\n",
       "      <th>Publisher</th>\n",
       "      <th>Publication_Date</th>\n",
       "      <th>Pages</th>\n",
       "      <th>Dimensions</th>\n",
       "    </tr>\n",
       "  </thead>\n",
       "  <tbody>\n",
       "    <tr>\n",
       "      <th>0</th>\n",
       "      <td>BN0001</td>\n",
       "      <td>The Maze Runner Series Complete Collection</td>\n",
       "      <td>$24.21</td>\n",
       "      <td>James Dashner</td>\n",
       "      <td>9780385388894</td>\n",
       "      <td>Random House Children's Books</td>\n",
       "      <td>7/8/14</td>\n",
       "      <td>NaN</td>\n",
       "      <td>5.60(w) x 8.40(h) x 3.30(d)</td>\n",
       "    </tr>\n",
       "  </tbody>\n",
       "</table>\n",
       "</div>"
      ],
      "text/plain": [
       "       ID                                       Title    Price         Author  \\\n",
       "0  BN0001  The Maze Runner Series Complete Collection  $24.21   James Dashner   \n",
       "\n",
       "          ISBN13                      Publisher Publication_Date  Pages  \\\n",
       "0  9780385388894  Random House Children's Books           7/8/14    NaN   \n",
       "\n",
       "                    Dimensions  \n",
       "0  5.60(w) x 8.40(h) x 3.30(d)  "
      ]
     },
     "execution_count": 15,
     "metadata": {},
     "output_type": "execute_result"
    }
   ],
   "source": [
    "ltbl_sampled.head(1)"
   ]
  },
  {
   "cell_type": "code",
   "execution_count": 16,
   "metadata": {
    "collapsed": false,
    "deletable": true,
    "editable": true,
    "scrolled": false
   },
   "outputs": [
    {
     "data": {
      "text/html": [
       "<div>\n",
       "<table border=\"1\" class=\"dataframe\">\n",
       "  <thead>\n",
       "    <tr style=\"text-align: right;\">\n",
       "      <th></th>\n",
       "      <th>ID</th>\n",
       "      <th>Title</th>\n",
       "      <th>UsedPrice</th>\n",
       "      <th>NewPrice</th>\n",
       "      <th>Author</th>\n",
       "      <th>ISBN10</th>\n",
       "      <th>ISBN13</th>\n",
       "      <th>Publisher</th>\n",
       "      <th>Publication_Date</th>\n",
       "      <th>Pages</th>\n",
       "      <th>Dimensions</th>\n",
       "    </tr>\n",
       "  </thead>\n",
       "  <tbody>\n",
       "    <tr>\n",
       "      <th>0</th>\n",
       "      <td>HC0001</td>\n",
       "      <td>The Hunger Games(Hunger Games (Quality))</td>\n",
       "      <td>$4.98</td>\n",
       "      <td>$11.02</td>\n",
       "      <td>Suzanne Collins</td>\n",
       "      <td>0439023521</td>\n",
       "      <td>9780439023528</td>\n",
       "      <td>Scholastic Press</td>\n",
       "      <td>Jul. 3rd, 2010</td>\n",
       "      <td>374</td>\n",
       "      <td>5.30 x 8.00 x 0.90 inches</td>\n",
       "    </tr>\n",
       "  </tbody>\n",
       "</table>\n",
       "</div>"
      ],
      "text/plain": [
       "       ID                                     Title UsedPrice NewPrice  \\\n",
       "0  HC0001  The Hunger Games(Hunger Games (Quality))     $4.98   $11.02   \n",
       "\n",
       "            Author      ISBN10         ISBN13         Publisher  \\\n",
       "0  Suzanne Collins  0439023521  9780439023528  Scholastic Press   \n",
       "\n",
       "  Publication_Date  Pages                 Dimensions  \n",
       "0   Jul. 3rd, 2010    374  5.30 x 8.00 x 0.90 inches  "
      ]
     },
     "execution_count": 16,
     "metadata": {},
     "output_type": "execute_result"
    }
   ],
   "source": [
    "rtbl_sampled.head(1)"
   ]
  },
  {
   "cell_type": "code",
   "execution_count": 9,
   "metadata": {
    "collapsed": false,
    "deletable": true,
    "editable": true,
    "scrolled": true
   },
   "outputs": [],
   "source": [
    "client = Client()\n",
    "sampled_tbls = down_sample(A, B, 3000, 1, num_chunks=4, scheduler=client.get)"
   ]
  }
 ],
 "metadata": {
  "kernelspec": {
   "display_name": "Python 3",
   "language": "python",
   "name": "python3"
  },
  "language_info": {
   "codemirror_mode": {
    "name": "ipython",
    "version": 3
   },
   "file_extension": ".py",
   "mimetype": "text/x-python",
   "name": "python",
   "nbconvert_exporter": "python",
   "pygments_lexer": "ipython3",
   "version": "3.6.0"
  }
 },
 "nbformat": 4,
 "nbformat_minor": 2
}
