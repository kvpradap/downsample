{
 "cells": [
  {
   "cell_type": "code",
   "execution_count": 1,
   "metadata": {
    "collapsed": true,
    "deletable": true,
    "editable": true
   },
   "outputs": [],
   "source": [
    "import sys\n",
    "sys.path.append('/Users/pradap/Documents/Research/Python-Package/pradap/downsample')"
   ]
  },
  {
   "cell_type": "code",
   "execution_count": 2,
   "metadata": {
    "collapsed": true,
    "deletable": true,
    "editable": true
   },
   "outputs": [],
   "source": [
    "from downsample.core.down_sample import down_sample\n",
    "from dask.diagnostics import ProgressBar\n",
    "from dask.threaded import get"
   ]
  },
  {
   "cell_type": "code",
   "execution_count": 3,
   "metadata": {
    "collapsed": true,
    "deletable": true,
    "editable": true
   },
   "outputs": [],
   "source": [
    "import py_stringsimjoin as ssj"
   ]
  },
  {
   "cell_type": "code",
   "execution_count": 4,
   "metadata": {
    "collapsed": true,
    "deletable": true,
    "editable": true
   },
   "outputs": [],
   "source": [
    "A, B = ssj.load_books_dataset()"
   ]
  },
  {
   "cell_type": "code",
   "execution_count": 5,
   "metadata": {
    "collapsed": false,
    "deletable": true,
    "editable": true
   },
   "outputs": [],
   "source": [
    "future_sampled_tbls = down_sample(A, B, 3000, 1, num_chunks=4)"
   ]
  },
  {
   "cell_type": "code",
   "execution_count": 7,
   "metadata": {
    "collapsed": false
   },
   "outputs": [],
   "source": [
    "#future_sampled_tbls.visualize()"
   ]
  },
  {
   "cell_type": "code",
   "execution_count": 8,
   "metadata": {
    "collapsed": false,
    "deletable": true,
    "editable": true
   },
   "outputs": [
    {
     "name": "stdout",
     "output_type": "stream",
     "text": [
      "[########################################] | 100% Completed |  3.3s\n"
     ]
    }
   ],
   "source": [
    "with ProgressBar():\n",
    "    sampled_tbls = future_sampled_tbls.compute(get=get)\n",
    "    \n",
    "    \n",
    "ltbl_sampled = sampled_tbls[0]\n",
    "rtbl_sampled = sampled_tbls[1]"
   ]
  },
  {
   "cell_type": "code",
   "execution_count": 9,
   "metadata": {
    "collapsed": false,
    "deletable": true,
    "editable": true
   },
   "outputs": [
    {
     "data": {
      "text/html": [
       "<div>\n",
       "<table border=\"1\" class=\"dataframe\">\n",
       "  <thead>\n",
       "    <tr style=\"text-align: right;\">\n",
       "      <th></th>\n",
       "      <th>ID</th>\n",
       "      <th>Title</th>\n",
       "      <th>Price</th>\n",
       "      <th>Author</th>\n",
       "      <th>ISBN13</th>\n",
       "      <th>Publisher</th>\n",
       "      <th>Publication_Date</th>\n",
       "      <th>Pages</th>\n",
       "      <th>Dimensions</th>\n",
       "    </tr>\n",
       "  </thead>\n",
       "  <tbody>\n",
       "    <tr>\n",
       "      <th>0</th>\n",
       "      <td>BN0001</td>\n",
       "      <td>The Maze Runner Series Complete Collection</td>\n",
       "      <td>$24.21</td>\n",
       "      <td>James Dashner</td>\n",
       "      <td>9780385388894</td>\n",
       "      <td>Random House Children's Books</td>\n",
       "      <td>7/8/14</td>\n",
       "      <td>NaN</td>\n",
       "      <td>5.60(w) x 8.40(h) x 3.30(d)</td>\n",
       "    </tr>\n",
       "    <tr>\n",
       "      <th>1</th>\n",
       "      <td>BN0002</td>\n",
       "      <td>The 5th Wave (Fifth Wave Series #1)</td>\n",
       "      <td>$8.35</td>\n",
       "      <td>Rick Yancey</td>\n",
       "      <td>9780142425831</td>\n",
       "      <td>Penguin Young Readers Group</td>\n",
       "      <td>2/10/15</td>\n",
       "      <td>512.0</td>\n",
       "      <td>5.40(w) x 8.20(h) x 1.50(d)</td>\n",
       "    </tr>\n",
       "    <tr>\n",
       "      <th>2</th>\n",
       "      <td>BN0003</td>\n",
       "      <td>The Death Cure (Maze Runner Series #3)</td>\n",
       "      <td>$9.99</td>\n",
       "      <td>James Dashner</td>\n",
       "      <td>9780385738781</td>\n",
       "      <td>Random House Children's Books</td>\n",
       "      <td>1/8/13</td>\n",
       "      <td>352.0</td>\n",
       "      <td>5.50(w) x 8.10(h) x 1.00(d)</td>\n",
       "    </tr>\n",
       "    <tr>\n",
       "      <th>3</th>\n",
       "      <td>BN0004</td>\n",
       "      <td>Harry Potter and the Sorcerer's Stone (Harry Potter Series #1)</td>\n",
       "      <td>$6.70</td>\n",
       "      <td>J. K. Rowling</td>\n",
       "      <td>9780590353427</td>\n",
       "      <td>Scholastic, Inc.</td>\n",
       "      <td>9/8/99</td>\n",
       "      <td>320.0</td>\n",
       "      <td>5.28(w) x 8.56(h) x 0.78(d)</td>\n",
       "    </tr>\n",
       "    <tr>\n",
       "      <th>6</th>\n",
       "      <td>BN0007</td>\n",
       "      <td>The Giver</td>\n",
       "      <td>$8.99</td>\n",
       "      <td>Lois Lowry</td>\n",
       "      <td>9780544336261</td>\n",
       "      <td>Houghton Mifflin Harcourt</td>\n",
       "      <td>7/1/14</td>\n",
       "      <td>240.0</td>\n",
       "      <td>5.40(w) x 8.10(h) x 0.70(d)</td>\n",
       "    </tr>\n",
       "  </tbody>\n",
       "</table>\n",
       "</div>"
      ],
      "text/plain": [
       "       ID                                                           Title  \\\n",
       "0  BN0001                      The Maze Runner Series Complete Collection   \n",
       "1  BN0002                             The 5th Wave (Fifth Wave Series #1)   \n",
       "2  BN0003                          The Death Cure (Maze Runner Series #3)   \n",
       "3  BN0004  Harry Potter and the Sorcerer's Stone (Harry Potter Series #1)   \n",
       "6  BN0007                                                       The Giver   \n",
       "\n",
       "     Price         Author         ISBN13                      Publisher  \\\n",
       "0  $24.21   James Dashner  9780385388894  Random House Children's Books   \n",
       "1   $8.35     Rick Yancey  9780142425831    Penguin Young Readers Group   \n",
       "2   $9.99   James Dashner  9780385738781  Random House Children's Books   \n",
       "3   $6.70   J. K. Rowling  9780590353427               Scholastic, Inc.   \n",
       "6   $8.99      Lois Lowry  9780544336261      Houghton Mifflin Harcourt   \n",
       "\n",
       "  Publication_Date  Pages                   Dimensions  \n",
       "0           7/8/14    NaN  5.60(w) x 8.40(h) x 3.30(d)  \n",
       "1          2/10/15  512.0  5.40(w) x 8.20(h) x 1.50(d)  \n",
       "2           1/8/13  352.0  5.50(w) x 8.10(h) x 1.00(d)  \n",
       "3           9/8/99  320.0  5.28(w) x 8.56(h) x 0.78(d)  \n",
       "6           7/1/14  240.0  5.40(w) x 8.10(h) x 0.70(d)  "
      ]
     },
     "execution_count": 9,
     "metadata": {},
     "output_type": "execute_result"
    }
   ],
   "source": [
    "ltbl_sampled.head()"
   ]
  },
  {
   "cell_type": "code",
   "execution_count": 10,
   "metadata": {
    "collapsed": false,
    "scrolled": false
   },
   "outputs": [
    {
     "data": {
      "text/html": [
       "<div>\n",
       "<table border=\"1\" class=\"dataframe\">\n",
       "  <thead>\n",
       "    <tr style=\"text-align: right;\">\n",
       "      <th></th>\n",
       "      <th>ID</th>\n",
       "      <th>Title</th>\n",
       "      <th>UsedPrice</th>\n",
       "      <th>NewPrice</th>\n",
       "      <th>Author</th>\n",
       "      <th>ISBN10</th>\n",
       "      <th>ISBN13</th>\n",
       "      <th>Publisher</th>\n",
       "      <th>Publication_Date</th>\n",
       "      <th>Pages</th>\n",
       "      <th>Dimensions</th>\n",
       "    </tr>\n",
       "  </thead>\n",
       "  <tbody>\n",
       "    <tr>\n",
       "      <th>0</th>\n",
       "      <td>HC0001</td>\n",
       "      <td>The Hunger Games(Hunger Games (Quality))</td>\n",
       "      <td>$4.98</td>\n",
       "      <td>$11.02</td>\n",
       "      <td>Suzanne Collins</td>\n",
       "      <td>0439023521</td>\n",
       "      <td>9780439023528</td>\n",
       "      <td>Scholastic Press</td>\n",
       "      <td>Jul. 3rd, 2010</td>\n",
       "      <td>374</td>\n",
       "      <td>5.30 x 8.00 x 0.90 inches</td>\n",
       "    </tr>\n",
       "    <tr>\n",
       "      <th>1</th>\n",
       "      <td>HC0002</td>\n",
       "      <td>The Giver(Readers Circle (Laurel-Leaf))</td>\n",
       "      <td>$3.98</td>\n",
       "      <td>NaN</td>\n",
       "      <td>Lois Lowry</td>\n",
       "      <td>0440237688</td>\n",
       "      <td>9780440237686</td>\n",
       "      <td>Laurel Leaf Library</td>\n",
       "      <td>Sep. 10th, 2002</td>\n",
       "      <td>192</td>\n",
       "      <td>4.10 x 6.80 x 0.60 inches</td>\n",
       "    </tr>\n",
       "    <tr>\n",
       "      <th>2</th>\n",
       "      <td>HC0003</td>\n",
       "      <td>Looking for Alaska</td>\n",
       "      <td>$3.98</td>\n",
       "      <td>$9.99</td>\n",
       "      <td>John Green</td>\n",
       "      <td>0142402516</td>\n",
       "      <td>9780142402511</td>\n",
       "      <td>Speak</td>\n",
       "      <td>Jan. 1st, 2007</td>\n",
       "      <td>221</td>\n",
       "      <td>5.62 x 8.20 x 0.73 inches</td>\n",
       "    </tr>\n",
       "    <tr>\n",
       "      <th>3</th>\n",
       "      <td>HC0004</td>\n",
       "      <td>Divergent(Divergent Trilogy (Paperback))</td>\n",
       "      <td>$6.98</td>\n",
       "      <td>NaN</td>\n",
       "      <td>Veronica Roth</td>\n",
       "      <td>0062024035</td>\n",
       "      <td>9780062024039</td>\n",
       "      <td>Katherine Tegen Books</td>\n",
       "      <td>Feb. 28th, 2012</td>\n",
       "      <td>576</td>\n",
       "      <td>5.20 x 7.80 x 1.50 inches</td>\n",
       "    </tr>\n",
       "    <tr>\n",
       "      <th>4</th>\n",
       "      <td>HC0005</td>\n",
       "      <td>Holes</td>\n",
       "      <td>$3.98</td>\n",
       "      <td>$9.16</td>\n",
       "      <td>Louis Sachar</td>\n",
       "      <td>0440414806</td>\n",
       "      <td>9780440414803</td>\n",
       "      <td>Yearling Books</td>\n",
       "      <td>May. 9th, 2000</td>\n",
       "      <td>240</td>\n",
       "      <td>5.31 x 7.65 x 0.69 inches</td>\n",
       "    </tr>\n",
       "  </tbody>\n",
       "</table>\n",
       "</div>"
      ],
      "text/plain": [
       "       ID                                     Title UsedPrice NewPrice  \\\n",
       "0  HC0001  The Hunger Games(Hunger Games (Quality))     $4.98   $11.02   \n",
       "1  HC0002   The Giver(Readers Circle (Laurel-Leaf))     $3.98      NaN   \n",
       "2  HC0003                        Looking for Alaska     $3.98    $9.99   \n",
       "3  HC0004  Divergent(Divergent Trilogy (Paperback))     $6.98      NaN   \n",
       "4  HC0005                                     Holes     $3.98    $9.16   \n",
       "\n",
       "            Author      ISBN10         ISBN13              Publisher  \\\n",
       "0  Suzanne Collins  0439023521  9780439023528       Scholastic Press   \n",
       "1       Lois Lowry  0440237688  9780440237686    Laurel Leaf Library   \n",
       "2       John Green  0142402516  9780142402511                  Speak   \n",
       "3    Veronica Roth  0062024035  9780062024039  Katherine Tegen Books   \n",
       "4     Louis Sachar  0440414806  9780440414803         Yearling Books   \n",
       "\n",
       "  Publication_Date  Pages                 Dimensions  \n",
       "0   Jul. 3rd, 2010    374  5.30 x 8.00 x 0.90 inches  \n",
       "1  Sep. 10th, 2002    192  4.10 x 6.80 x 0.60 inches  \n",
       "2   Jan. 1st, 2007    221  5.62 x 8.20 x 0.73 inches  \n",
       "3  Feb. 28th, 2012    576  5.20 x 7.80 x 1.50 inches  \n",
       "4   May. 9th, 2000    240  5.31 x 7.65 x 0.69 inches  "
      ]
     },
     "execution_count": 10,
     "metadata": {},
     "output_type": "execute_result"
    }
   ],
   "source": [
    "rtbl_sampled.head()"
   ]
  },
  {
   "cell_type": "code",
   "execution_count": 11,
   "metadata": {
    "collapsed": false,
    "scrolled": true
   },
   "outputs": [],
   "source": [
    "from distributed import Client"
   ]
  },
  {
   "cell_type": "code",
   "execution_count": 12,
   "metadata": {
    "collapsed": true
   },
   "outputs": [],
   "source": [
    "client = Client()"
   ]
  },
  {
   "cell_type": "code",
   "execution_count": 18,
   "metadata": {
    "collapsed": true
   },
   "outputs": [],
   "source": [
    "import time"
   ]
  },
  {
   "cell_type": "code",
   "execution_count": 13,
   "metadata": {
    "collapsed": false
   },
   "outputs": [
    {
     "name": "stdout",
     "output_type": "stream",
     "text": [
      "CPU times: user 276 ms, sys: 134 ms, total: 409 ms\n",
      "Wall time: 4.32 s\n"
     ]
    }
   ],
   "source": [
    "%time x = future_sampled_tbls.compute(get=client.get)"
   ]
  }
 ],
 "metadata": {
  "kernelspec": {
   "display_name": "Python 3",
   "language": "python",
   "name": "python3"
  },
  "language_info": {
   "codemirror_mode": {
    "name": "ipython",
    "version": 3
   },
   "file_extension": ".py",
   "mimetype": "text/x-python",
   "name": "python",
   "nbconvert_exporter": "python",
   "pygments_lexer": "ipython3",
   "version": "3.6.0"
  }
 },
 "nbformat": 4,
 "nbformat_minor": 2
}
